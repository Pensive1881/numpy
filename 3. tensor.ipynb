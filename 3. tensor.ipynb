{
 "cells": [
  {
   "cell_type": "code",
   "execution_count": 1,
   "metadata": {},
   "outputs": [],
   "source": [
    "import numpy as np\n",
    "from PIL import Image"
   ]
  },
  {
   "cell_type": "markdown",
   "metadata": {},
   "source": [
    "# Tensors\n",
    "\n",
    "In the first notebook ([vector.ipynb](https://github.com/ADGEfficiency/teaching-monolith/blob/master/numpy/1.vector.ipynb)) we dealt with vectors (one dimensional).  In the second notebook ([matrix.ipynb](https://github.com/ADGEfficiency/teaching-monolith/blob/master/numpy/2.matrix.ipynb)) we looked at arrays with two dimensions.\n",
    "\n",
    "Now we deal with **Tensors** - arrays that can have many dimensions.\n",
    "\n",
    "- n-dimensional arrays\n",
    "- 3 = volume\n",
    "- uppercase, bold $\\textbf{A}_{i,j,k}$\n",
    "\n",
    "## Working in three dimensions\n",
    "\n",
    "Extension of two dimensions\n",
    "- everything we saw in the previous notebook holds\n",
    "\n",
    "Images\n",
    "- height\n",
    "- width\n",
    "- channels (colors)\n",
    "\n",
    "Sequential models\n",
    "- (batch_size, num_timesteps, *features)"
   ]
  },
  {
   "cell_type": "code",
   "execution_count": 2,
   "metadata": {},
   "outputs": [
    {
     "data": {
      "text/plain": [
       "(3, 3, 3)"
      ]
     },
     "execution_count": 2,
     "metadata": {},
     "output_type": "execute_result"
    }
   ],
   "source": [
    "#  three rows, three columns, three channels\n",
    "image = np.random.rand(3, 3, 3)\n",
    "\n",
    "image.shape"
   ]
  },
  {
   "cell_type": "markdown",
   "metadata": {},
   "source": [
    "## Practical\n",
    "\n",
    "Create an array filled from a normal distribution, with the shape\n",
    "- 100 samples\n",
    "- 64 timesteps\n",
    "- 32 height\n",
    "- 16 width\n",
    "- 3 channels"
   ]
  },
  {
   "cell_type": "code",
   "execution_count": 3,
   "metadata": {},
   "outputs": [
    {
     "data": {
      "text/plain": [
       "0.31007612801204987"
      ]
     },
     "execution_count": 3,
     "metadata": {},
     "output_type": "execute_result"
    }
   ],
   "source": [
    "np.random.rand()"
   ]
  },
  {
   "cell_type": "markdown",
   "metadata": {},
   "source": [
    "## Practical\n",
    "\n",
    "Aggregate by standard deviation `np.std` \n",
    "- over the width\n",
    "- over the height\n",
    "- over the channels\n",
    "- over all data"
   ]
  },
  {
   "cell_type": "code",
   "execution_count": null,
   "metadata": {},
   "outputs": [],
   "source": []
  },
  {
   "cell_type": "markdown",
   "metadata": {},
   "source": [
    "## PNG to Numpy array"
   ]
  },
  {
   "cell_type": "code",
   "execution_count": 4,
   "metadata": {},
   "outputs": [],
   "source": [
    "# Reading in and displaying the image\n",
    "img = Image.open('data/abbyroad.png')\n",
    "img.show()"
   ]
  },
  {
   "cell_type": "markdown",
   "metadata": {},
   "source": [
    "To see how this picture looks like in RGB code, we apply the following function:"
   ]
  },
  {
   "cell_type": "code",
   "execution_count": 5,
   "metadata": {},
   "outputs": [
    {
     "name": "stdout",
     "output_type": "stream",
     "text": [
      "[[[ 15  13  16]\n",
      "  [ 15  13  16]\n",
      "  [ 15  13  16]\n",
      "  ...\n",
      "  [ 20  20  18]\n",
      "  [ 17  17  15]\n",
      "  [ 16  16  14]]\n",
      "\n",
      " [[ 16  14  17]\n",
      "  [ 16  14  17]\n",
      "  [ 16  14  17]\n",
      "  ...\n",
      "  [ 21  21  19]\n",
      "  [ 20  20  18]\n",
      "  [ 20  20  18]]\n",
      "\n",
      " [[ 17  15  18]\n",
      "  [ 17  15  18]\n",
      "  [ 16  14  17]\n",
      "  ...\n",
      "  [ 21  21  19]\n",
      "  [ 21  23  20]\n",
      "  [ 22  24  21]]\n",
      "\n",
      " ...\n",
      "\n",
      " [[202 194 171]\n",
      "  [199 191 168]\n",
      "  [196 188 165]\n",
      "  ...\n",
      "  [205 195 159]\n",
      "  [209 199 163]\n",
      "  [213 203 167]]\n",
      "\n",
      " [[201 193 170]\n",
      "  [197 189 166]\n",
      "  [195 187 164]\n",
      "  ...\n",
      "  [206 198 161]\n",
      "  [208 200 163]\n",
      "  [213 205 168]]\n",
      "\n",
      " [[200 192 169]\n",
      "  [196 188 165]\n",
      "  [194 186 163]\n",
      "  ...\n",
      "  [209 201 164]\n",
      "  [210 202 165]\n",
      "  [214 206 169]]]\n"
     ]
    }
   ],
   "source": [
    "array = np.array(img)\n",
    "print(array)"
   ]
  },
  {
   "cell_type": "markdown",
   "metadata": {},
   "source": [
    "## Practical\n",
    "Now create the negative version and grayscale version of that picture and save it in the data folder"
   ]
  },
  {
   "cell_type": "code",
   "execution_count": 6,
   "metadata": {},
   "outputs": [],
   "source": [
    "# Inverse Color\n"
   ]
  },
  {
   "cell_type": "code",
   "execution_count": 7,
   "metadata": {},
   "outputs": [],
   "source": [
    "# Grayscale Picture\n"
   ]
  },
  {
   "cell_type": "markdown",
   "metadata": {},
   "source": [
    "## Answers\n",
    "You are encourage to give it a try before you look at the solution"
   ]
  },
  {
   "cell_type": "code",
   "execution_count": 8,
   "metadata": {},
   "outputs": [],
   "source": [
    "from Answers import inverse_color, grayscale\n",
    "inverse_color(array)\n",
    "grayscale(array)"
   ]
  },
  {
   "cell_type": "markdown",
   "metadata": {},
   "source": [
    "## Practical - convolution\n",
    "\n",
    "Implement the convolution operation - we will do this together as a class! The idea looks like this \n",
    "<img src=\"assets/conv.png\" alt=\"\" width=\"300\"/>"
   ]
  },
  {
   "cell_type": "code",
   "execution_count": null,
   "metadata": {},
   "outputs": [],
   "source": []
  }
 ],
 "metadata": {
  "kernelspec": {
   "display_name": "Python 3",
   "language": "python",
   "name": "python3"
  },
  "language_info": {
   "codemirror_mode": {
    "name": "ipython",
    "version": 3
   },
   "file_extension": ".py",
   "mimetype": "text/x-python",
   "name": "python",
   "nbconvert_exporter": "python",
   "pygments_lexer": "ipython3",
   "version": "3.7.4"
  }
 },
 "nbformat": 4,
 "nbformat_minor": 4
}
