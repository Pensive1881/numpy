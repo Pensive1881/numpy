{
 "cells": [
  {
   "cell_type": "code",
   "execution_count": 1,
   "metadata": {},
   "outputs": [],
   "source": [
    "import matplotlib.pyplot as plt\n",
    "import numpy as np\n",
    "import pandas as pd\n",
    "import sys\n",
    "\n",
    "#%matplotlib inline"
   ]
  },
  {
   "cell_type": "markdown",
   "metadata": {},
   "source": [
    "# Vectors\n",
    "\n",
    "This notebook uses many images from the excellent [A Visual Intro to NumPy and Data Representation](https://jalammar.github.io/visual-numpy/) from [Jay Alammar](https://jalammar.github.io/).\n",
    "\n",
    "## Axes\n",
    "\n",
    "Axes == dimension\n",
    "\n",
    "i.e. three axes == three dimensions\n",
    "\n",
    "## Scalars, vectors, matricies and tensors\n",
    "\n",
    "See Chapter 2 of [Deep Learning](https://www.deeplearningbook.org/).\n",
    "\n",
    "Being specific about how we use these terms (there is no solid concensus - many people (including me) will use array and/or tensor).\n",
    "\n",
    "### Scalar\n",
    "\n",
    "$\\textit{x}$\n",
    "\n",
    "- single number\n",
    "- lowercase, italic $\\textit{x}$\n",
    "- point\n",
    "\n",
    "### Vector\n",
    "\n",
    "$\\textbf{x} = \\begin{bmatrix}x_{1} \\\\ x_{2} \\\\ \\vdots \\\\ x_{n} \\end{bmatrix}$\n",
    "\n",
    "- array of $n$ numbers\n",
    "- lowercase, bold \n",
    "- $x_{1}$ = first element\n",
    "- line\n",
    "\n",
    "### Matrix\n",
    "\n",
    "$\\textbf{A}_{2, 2} = \\begin{bmatrix}A_{1, 1} & A_{1, 2} \\\\ A_{2, 1} & A_{2, 2}\\end{bmatrix}$\n",
    "\n",
    "- two dimensional\n",
    "- uppercase, bold $\\textbf{A}_{m, n}$\n",
    "- $A_{1, 1}$ = first element\n",
    "- area\n",
    "\n",
    "### Tensor\n",
    "\n",
    "- n-dimensional\n",
    "- 3 = volume\n",
    "- uppercase, bold $\\textbf{A}_{i,j,k}$\n",
    "\n",
    "## When `numpy`\n",
    "\n",
    "Linear algebra, data processing\n",
    "\n",
    "Pandas sits on top of `numpy`:"
   ]
  },
  {
   "cell_type": "code",
   "execution_count": 2,
   "metadata": {},
   "outputs": [
    {
     "data": {
      "text/plain": [
       "array([[1],\n",
       "       [2]])"
      ]
     },
     "execution_count": 2,
     "metadata": {},
     "output_type": "execute_result"
    }
   ],
   "source": [
    "#  access the numpy array that holds the data\n",
    "pd.DataFrame([1, 2]).values"
   ]
  },
  {
   "cell_type": "markdown",
   "metadata": {},
   "source": [
    "## What is `numpy`\n",
    "\n",
    "Library for working with n-dimensional data\n",
    "- **store and operate on data using C structures**\n",
    "\n",
    "<img src=\"assets/c.png\" alt=\"\" width=\"350\"/>\n",
    "\n",
    "## Why `numpy`\n",
    "\n",
    "Functionality - There is nothing that cannot be done with python lists that can be done with numpy arrays. It is sometimes just nicer to use\n",
    "- vector, matrix & tensor operations\n",
    "\n",
    "Uses less memory\n",
    "- fixed data types (can also be a drawback)\n",
    "\n",
    "Speed\n",
    "- fixed data types (benefit from static typing)\n",
    "- C implementation\n",
    "\n",
    "Below we implement a sum operation using a Python loop:"
   ]
  },
  {
   "cell_type": "code",
   "execution_count": 3,
   "metadata": {},
   "outputs": [
    {
     "data": {
      "text/plain": [
       "'4.52 seconds'"
      ]
     },
     "execution_count": 3,
     "metadata": {},
     "output_type": "execute_result"
    }
   ],
   "source": [
    "def loop(left, right):\n",
    "    data = np.zeros(left.shape[0])\n",
    "    for i in range(data.shape[0]):\n",
    "        data[i] = left[i] + right[i]\n",
    "    return data\n",
    "    \n",
    "left = np.arange(10000000)\n",
    "right = np.arange(10000000)\n",
    "\n",
    "#  excuse the horrbile hack here\n",
    "#  want to always print the time in seconds\n",
    "res = %timeit -qo loop(left, right)\n",
    "\n",
    "'{:.2f} seconds'.format(res.average)"
   ]
  },
  {
   "cell_type": "markdown",
   "metadata": {},
   "source": [
    "Now lets try it using `numpy` addition:"
   ]
  },
  {
   "cell_type": "code",
   "execution_count": 4,
   "metadata": {},
   "outputs": [
    {
     "data": {
      "text/plain": [
       "'0.02 seconds'"
      ]
     },
     "execution_count": 4,
     "metadata": {},
     "output_type": "execute_result"
    }
   ],
   "source": [
    "res = %timeit -qo left + right\n",
    "\n",
    "'{:.2f} seconds'.format(res.average)"
   ]
  },
  {
   "cell_type": "markdown",
   "metadata": {},
   "source": [
    "Numpy arrays also take way storage compared to python lists, consider that example:"
   ]
  },
  {
   "cell_type": "code",
   "execution_count": 5,
   "metadata": {},
   "outputs": [
    {
     "name": "stdout",
     "output_type": "stream",
     "text": [
      "Storage size of python lists is 3.5 times bigger than numpy arrays\n"
     ]
    }
   ],
   "source": [
    "py_arr = [1,2,3,4,5,6] # Normal python list\n",
    "numpy_arr = np.array([1,2,3,4,5,6]) # Numpy array \n",
    "\n",
    "sizeof_py_arr = sys.getsizeof(1) * len(py_arr)           # Calculating size for python list\n",
    "sizeof_numpy_arr = numpy_arr.itemsize * numpy_arr.size   # Calculating size for numpy array\n",
    "\n",
    "# Printing the ratio of python list to numpy array\n",
    "print(\"Storage size of python lists is \" + str(sizeof_py_arr / sizeof_numpy_arr) + \" times bigger than numpy arrays\")"
   ]
  },
  {
   "cell_type": "markdown",
   "metadata": {},
   "source": [
    "Note that not only is `numpy` quicker, it is **more readable**!\n",
    "\n",
    "The reason that `numpy` is faster is **vectorization**\n",
    "- running multiple operations from a single instruction\n",
    "\n",
    "Many CPU's have operation that run in parallel (modern x86 chips have the SSE instructions)\n",
    "\n",
    "Vectorization is\n",
    "- the process of rewriting a loop \n",
    "- instead of processing a single element of an array N times\n",
    "- it processes 4 elements of the array simultaneously N/4 times"
   ]
  },
  {
   "cell_type": "markdown",
   "metadata": {},
   "source": [
    "## `list` versus `np.array`\n",
    "\n",
    "Python list\n",
    "- general-purpose container - can hold different data types\n",
    "- support (fairly) efficient insertion, deletion, appending, and concatenation\n",
    "- list comprehensions make them easy to construct and manipulate\n",
    "- only a few list operations can be carried out in C (because of the need for type checking)\n",
    "- the list holds pointers to items scattered across memory\n",
    "\n",
    "Numpy array\n",
    "- **only one data type**\n",
    "- less flexible\n",
    "- vectorized operations\n",
    "- fixed size\n",
    "- data in one place in memory\n",
    "\n",
    "Only holding one data type means that numpy can efficiently store data in memory\n",
    "\n",
    "A list doesn't know what the next object will be - this makes storing it in memory challenging\n",
    "\n",
    "```python\n",
    "[0, 1.0, '2.0']\n",
    "```\n",
    "\n",
    "We can make an array from a list - `numpy` will make assumptions about what datatype the array should hold:"
   ]
  },
  {
   "cell_type": "code",
   "execution_count": 6,
   "metadata": {},
   "outputs": [],
   "source": [
    "#  the integer 10 is converted to a float\n",
    "a = np.array([10, 20.0, 0])"
   ]
  },
  {
   "cell_type": "code",
   "execution_count": 7,
   "metadata": {},
   "outputs": [],
   "source": [
    "a[0] = '3'"
   ]
  },
  {
   "cell_type": "code",
   "execution_count": 8,
   "metadata": {},
   "outputs": [
    {
     "data": {
      "text/plain": [
       "dtype('float64')"
      ]
     },
     "execution_count": 8,
     "metadata": {},
     "output_type": "execute_result"
    }
   ],
   "source": [
    "a.dtype"
   ]
  },
  {
   "cell_type": "markdown",
   "metadata": {},
   "source": [
    "We can see the data type by accessing the `.dtype` attribute:"
   ]
  },
  {
   "cell_type": "code",
   "execution_count": 9,
   "metadata": {},
   "outputs": [
    {
     "data": {
      "text/plain": [
       "dtype('float64')"
      ]
     },
     "execution_count": 9,
     "metadata": {},
     "output_type": "execute_result"
    }
   ],
   "source": [
    "#  64 bits (0 or 1) per float\n",
    "np.array([10, 20.0]).dtype"
   ]
  },
  {
   "cell_type": "markdown",
   "metadata": {},
   "source": [
    "We can change the datatype of an array:"
   ]
  },
  {
   "cell_type": "code",
   "execution_count": 10,
   "metadata": {},
   "outputs": [
    {
     "data": {
      "text/plain": [
       "array([10, 20])"
      ]
     },
     "execution_count": 10,
     "metadata": {},
     "output_type": "execute_result"
    }
   ],
   "source": [
    "np.array([10, 20.0]).astype('int')"
   ]
  },
  {
   "cell_type": "markdown",
   "metadata": {},
   "source": [
    "Note that changing the datatype will by default create a newly allocated array (new location in memory) - you can control this using a an argument:"
   ]
  },
  {
   "cell_type": "code",
   "execution_count": 11,
   "metadata": {},
   "outputs": [
    {
     "data": {
      "text/plain": [
       "array([10, 20])"
      ]
     },
     "execution_count": 11,
     "metadata": {},
     "output_type": "execute_result"
    }
   ],
   "source": [
    "np.array([10, 20.0], copy=False).astype('int')"
   ]
  },
  {
   "cell_type": "markdown",
   "metadata": {},
   "source": [
    "We can see the number of elements in an array:"
   ]
  },
  {
   "cell_type": "code",
   "execution_count": 12,
   "metadata": {},
   "outputs": [
    {
     "data": {
      "text/plain": [
       "3"
      ]
     },
     "execution_count": 12,
     "metadata": {},
     "output_type": "execute_result"
    }
   ],
   "source": [
    "np.array([10, 20.0, 30]).size"
   ]
  },
  {
   "cell_type": "markdown",
   "metadata": {},
   "source": [
    "For a vector the size will be the same as the shape:"
   ]
  },
  {
   "cell_type": "code",
   "execution_count": 13,
   "metadata": {},
   "outputs": [
    {
     "data": {
      "text/plain": [
       "(3,)"
      ]
     },
     "execution_count": 13,
     "metadata": {},
     "output_type": "execute_result"
    }
   ],
   "source": [
    "np.array([10, 20.0, 30]).shape"
   ]
  },
  {
   "cell_type": "markdown",
   "metadata": {},
   "source": [
    "We can also get the number of elements in a vector using the Python bulitin `len`:"
   ]
  },
  {
   "cell_type": "code",
   "execution_count": 14,
   "metadata": {},
   "outputs": [
    {
     "data": {
      "text/plain": [
       "3"
      ]
     },
     "execution_count": 14,
     "metadata": {},
     "output_type": "execute_result"
    }
   ],
   "source": [
    "len(np.array([10, 20.0, 30]))"
   ]
  },
  {
   "cell_type": "markdown",
   "metadata": {},
   "source": [
    "## Vectors\n",
    "\n",
    "$\\begin{bmatrix}x_{1} & x_{2} & \\cdots & x_{n} \\end{bmatrix}$\n",
    "\n",
    "- array of $n$ numbers\n",
    "- lowercase, bold $\\textbf{x}$\n",
    "- $x_{1}$ = first element\n",
    "- line"
   ]
  },
  {
   "cell_type": "markdown",
   "metadata": {},
   "source": [
    "We can visualize a vector as a line:"
   ]
  },
  {
   "cell_type": "code",
   "execution_count": 15,
   "metadata": {},
   "outputs": [
    {
     "data": {
      "text/plain": [
       "[<matplotlib.lines.Line2D at 0x121935d10>]"
      ]
     },
     "execution_count": 15,
     "metadata": {},
     "output_type": "execute_result"
    },
    {
     "data": {
      "image/png": "[encoded data removed]",
      "text/plain": [
       "<Figure size 432x288 with 1 Axes>"
      ]
     },
     "metadata": {
      "needs_background": "light"
     },
     "output_type": "display_data"
    }
   ],
   "source": [
    "data = np.array([4, 6, 8, 8, 6, 4])\n",
    "\n",
    "plt.plot(data)"
   ]
  },
  {
   "cell_type": "markdown",
   "metadata": {},
   "source": [
    "## Vector Arithmetic\n",
    "\n",
    "In Python when we add iterables together they are joined:"
   ]
  },
  {
   "cell_type": "code",
   "execution_count": 16,
   "metadata": {},
   "outputs": [
    {
     "data": {
      "text/plain": [
       "[0, 1, 2, 1]"
      ]
     },
     "execution_count": 16,
     "metadata": {},
     "output_type": "execute_result"
    }
   ],
   "source": [
    "[0, 1, 2] + [1]"
   ]
  },
  {
   "cell_type": "markdown",
   "metadata": {},
   "source": [
    "`numpy` works differently - addition works **element wise**:\n",
    "\n",
    "<img src=\"assets/add.png\" alt=\"\" width=\"300\"/>"
   ]
  },
  {
   "cell_type": "code",
   "execution_count": 17,
   "metadata": {},
   "outputs": [
    {
     "data": {
      "text/plain": [
       "array([2, 3])"
      ]
     },
     "execution_count": 17,
     "metadata": {},
     "output_type": "execute_result"
    }
   ],
   "source": [
    "np.array([1, 2]) + np.array([1, 1])"
   ]
  },
  {
   "cell_type": "markdown",
   "metadata": {},
   "source": [
    "All of the logic above holds for subtraction, multiplication etc:"
   ]
  },
  {
   "cell_type": "code",
   "execution_count": 18,
   "metadata": {},
   "outputs": [
    {
     "data": {
      "text/plain": [
       "array([-1,  0,  1])"
      ]
     },
     "execution_count": 18,
     "metadata": {},
     "output_type": "execute_result"
    }
   ],
   "source": [
    "np.array([0, 1, 2]) - np.array([1]) "
   ]
  },
  {
   "cell_type": "code",
   "execution_count": 19,
   "metadata": {},
   "outputs": [
    {
     "data": {
      "text/plain": [
       "array([0, 2, 4])"
      ]
     },
     "execution_count": 19,
     "metadata": {},
     "output_type": "execute_result"
    }
   ],
   "source": [
    "np.array([0, 1, 2]) * np.array([2]) "
   ]
  },
  {
   "cell_type": "markdown",
   "metadata": {},
   "source": [
    "Common problem to multiply every number of a list with a scalar represents way more work using lists compared to np arrays"
   ]
  },
  {
   "cell_type": "code",
   "execution_count": 20,
   "metadata": {},
   "outputs": [],
   "source": [
    "np_array = np.array([1, 2, 3]) # Numpy list\n",
    "py_list = [1, 2, 3] # Python list\n",
    "\n",
    "np_double = np_array * 2 # Doubling the numpy array \n",
    "list_double = [(i*2) for i in py_list] # Doubling the list"
   ]
  },
  {
   "cell_type": "markdown",
   "metadata": {},
   "source": [
    "Next to vector summing, of course it is also possible to take the product"
   ]
  },
  {
   "cell_type": "code",
   "execution_count": 21,
   "metadata": {},
   "outputs": [
    {
     "data": {
      "text/plain": [
       "6"
      ]
     },
     "execution_count": 21,
     "metadata": {},
     "output_type": "execute_result"
    }
   ],
   "source": [
    "array = np.array([1, 2, 3])\n",
    "np.prod(array)"
   ]
  },
  {
   "cell_type": "markdown",
   "metadata": {},
   "source": [
    "## Broadcasting\n",
    "\n",
    "The smaller array will be broadcast across the larger array\n",
    "\n",
    "<img src=\"assets/broad.png\" alt=\"\" width=\"300\"/>"
   ]
  },
  {
   "cell_type": "code",
   "execution_count": 22,
   "metadata": {},
   "outputs": [
    {
     "data": {
      "text/plain": [
       "array([2.6, 3.6])"
      ]
     },
     "execution_count": 22,
     "metadata": {},
     "output_type": "execute_result"
    }
   ],
   "source": [
    "np.array([1, 2]) + np.array([1.6]) "
   ]
  },
  {
   "cell_type": "markdown",
   "metadata": {},
   "source": [
    "Note how different adding lists together is:"
   ]
  },
  {
   "cell_type": "code",
   "execution_count": 23,
   "metadata": {},
   "outputs": [
    {
     "data": {
      "text/plain": [
       "[1, 2, 1.6]"
      ]
     },
     "execution_count": 23,
     "metadata": {},
     "output_type": "execute_result"
    }
   ],
   "source": [
    "[1, 2] + [1.6]"
   ]
  },
  {
   "cell_type": "markdown",
   "metadata": {},
   "source": [
    "Broadcasting is important because the larger array **keep its shape**\n",
    "- matrix multiplication (ie dot products) often result in differently shaped arrays"
   ]
  },
  {
   "cell_type": "markdown",
   "metadata": {},
   "source": [
    "## Working in a single dimension\n",
    "\n",
    "Vectors - flat lists\n",
    "\n",
    "### Indexing\n",
    "\n",
    "<img src=\"assets/idx.png\" alt=\"\" width=\"500\"/>\n",
    "\n",
    "### Aggregation\n",
    "\n",
    "<img src=\"assets/agg.png\" alt=\"\" width=\"800\"/>"
   ]
  },
  {
   "cell_type": "markdown",
   "metadata": {},
   "source": [
    "## Practical \n",
    "\n",
    "Calculate the absolute difference between the sum of squared numbers between 1 and 100 and the square of their sum, once in pure python and with numpy arrays: \n",
    "$$ |(1^2 + 2^2 + 3^2 + ...) - (1 + 2 + 3 + ...)^2|$$ \n"
   ]
  },
  {
   "cell_type": "markdown",
   "metadata": {},
   "source": [
    "### Pure python:"
   ]
  },
  {
   "cell_type": "code",
   "execution_count": null,
   "metadata": {},
   "outputs": [],
   "source": []
  },
  {
   "cell_type": "markdown",
   "metadata": {},
   "source": [
    "### Numpy array"
   ]
  },
  {
   "cell_type": "code",
   "execution_count": null,
   "metadata": {},
   "outputs": [],
   "source": []
  },
  {
   "cell_type": "markdown",
   "metadata": {},
   "source": [
    "## Answers:\n",
    "You are encouraged to look at the solutions after you gave it a serious try "
   ]
  },
  {
   "cell_type": "code",
   "execution_count": 24,
   "metadata": {},
   "outputs": [],
   "source": [
    "from Answers import purepython, numpyarray"
   ]
  },
  {
   "cell_type": "code",
   "execution_count": 38,
   "metadata": {},
   "outputs": [
    {
     "name": "stdout",
     "output_type": "stream",
     "text": [
      "25164150\n",
      "27.4 µs ± 256 ns per loop (mean ± std. dev. of 7 runs, 10000 loops each)\n"
     ]
    }
   ],
   "source": [
    "print(purepython())\n",
    "%timeit purepython()"
   ]
  },
  {
   "cell_type": "code",
   "execution_count": 39,
   "metadata": {},
   "outputs": [
    {
     "name": "stdout",
     "output_type": "stream",
     "text": [
      "25164150\n",
      "12.4 µs ± 700 ns per loop (mean ± std. dev. of 7 runs, 100000 loops each)\n"
     ]
    }
   ],
   "source": [
    "print(numpyarray())\n",
    "%timeit numpyarray()"
   ]
  },
  {
   "cell_type": "markdown",
   "metadata": {},
   "source": [
    "## Vector norms\n",
    "\n",
    "Size of a vector\n",
    "\n",
    "Function that maps from a vector to a non-negative scalar\n",
    "\n",
    "$||x||_{p} = \\left( \\sum |x|^{p} \\right)^{\\frac{1}{p}} $\n",
    "\n",
    "A common operation in machine learning is **gradient clipping** - this can be done by clipping by value, norm or global norm\n",
    "- global norm will keep their relative scale \n",
    "\n",
    "We can do a norm in `numpy` using:"
   ]
  },
  {
   "cell_type": "code",
   "execution_count": 27,
   "metadata": {},
   "outputs": [
    {
     "name": "stdout",
     "output_type": "stream",
     "text": [
      "7.08 µs ± 28.7 ns per loop (mean ± std. dev. of 7 runs, 100000 loops each)\n"
     ]
    }
   ],
   "source": [
    "p = 2\n",
    "\n",
    "%timeit sum([abs(x)**p for x in data])**(1 / p)"
   ]
  },
  {
   "cell_type": "code",
   "execution_count": 28,
   "metadata": {},
   "outputs": [
    {
     "name": "stdout",
     "output_type": "stream",
     "text": [
      "78.4 µs ± 1.11 µs per loop (mean ± std. dev. of 7 runs, 10000 loops each)\n"
     ]
    }
   ],
   "source": [
    "data = np.arange(100000)\n",
    "\n",
    "%timeit np.linalg.norm(data, ord=2)"
   ]
  },
  {
   "cell_type": "markdown",
   "metadata": {},
   "source": [
    "## Making vectors\n",
    "\n",
    "`np.arange` - similar to the Python builtin `range`"
   ]
  },
  {
   "cell_type": "code",
   "execution_count": 29,
   "metadata": {},
   "outputs": [
    {
     "data": {
      "text/plain": [
       "array([0, 2, 4, 6, 8])"
      ]
     },
     "execution_count": 29,
     "metadata": {},
     "output_type": "execute_result"
    }
   ],
   "source": [
    "np.arange(start=0, stop=10, step=2)"
   ]
  },
  {
   "cell_type": "markdown",
   "metadata": {},
   "source": [
    "`np.linspace` - evenly spaced between two points"
   ]
  },
  {
   "cell_type": "code",
   "execution_count": 30,
   "metadata": {},
   "outputs": [
    {
     "data": {
      "text/plain": [
       "array([  0.        ,   7.14285714,  14.28571429,  21.42857143,\n",
       "        28.57142857,  35.71428571,  42.85714286,  50.        ,\n",
       "        57.14285714,  64.28571429,  71.42857143,  78.57142857,\n",
       "        85.71428571,  92.85714286, 100.        ])"
      ]
     },
     "execution_count": 30,
     "metadata": {},
     "output_type": "execute_result"
    }
   ],
   "source": [
    "np.linspace(0, 100, 15)"
   ]
  },
  {
   "cell_type": "markdown",
   "metadata": {},
   "source": [
    "## Sampling random uniform\n",
    "\n",
    "This can be done two ways\n",
    "- `np.random.random`\n",
    "- `np.random.rand`\n",
    "\n",
    "Only difference is the shape argument is not a tuple\n",
    "- saves writing the brackets\n",
    "\n",
    "Sample uniformly across the interval [0, 1)"
   ]
  },
  {
   "cell_type": "code",
   "execution_count": 31,
   "metadata": {},
   "outputs": [
    {
     "data": {
      "text/plain": [
       "array([[0.31000845, 0.86973282, 0.98505255, 0.90699701],\n",
       "       [0.30701706, 0.87060367, 0.71612774, 0.75337274]])"
      ]
     },
     "execution_count": 31,
     "metadata": {},
     "output_type": "execute_result"
    }
   ],
   "source": [
    "#  shape defined as a tuple\n",
    "np.random.random((2, 4))"
   ]
  },
  {
   "cell_type": "code",
   "execution_count": 32,
   "metadata": {},
   "outputs": [
    {
     "data": {
      "text/plain": [
       "array([[0.83629422, 0.17519163, 0.89813139, 0.94718323],\n",
       "       [0.44876215, 0.75364015, 0.2305031 , 0.27375695]])"
      ]
     },
     "execution_count": 32,
     "metadata": {},
     "output_type": "execute_result"
    }
   ],
   "source": [
    "#  shape defined as *args\n",
    "np.random.rand(2, 4)"
   ]
  },
  {
   "cell_type": "markdown",
   "metadata": {},
   "source": [
    "## Sample from a standard normal\n",
    "\n",
    "`np.random.randn`\n",
    "\n",
    "$\\mathcal{N}(0,1)$"
   ]
  },
  {
   "cell_type": "code",
   "execution_count": 33,
   "metadata": {},
   "outputs": [
    {
     "data": {
      "text/plain": [
       "array([[ 0.890972  ,  2.75831009,  1.74161763,  0.21406661],\n",
       "       [ 0.66373078, -1.2950052 , -0.55836105, -0.15996741]])"
      ]
     },
     "execution_count": 33,
     "metadata": {},
     "output_type": "execute_result"
    }
   ],
   "source": [
    "np.random.randn(2, 4)"
   ]
  },
  {
   "cell_type": "markdown",
   "metadata": {},
   "source": [
    "## Sample from a Gaussian\n",
    "\n",
    "`np.random.normal`\n",
    "\n",
    "$\\mathcal{N}(\\mu,\\sigma)$\n",
    "\n",
    "We choose the statistics (mean & standard deviation)"
   ]
  },
  {
   "cell_type": "code",
   "execution_count": 34,
   "metadata": {},
   "outputs": [
    {
     "data": {
      "text/plain": [
       "array([[ 1.64218278,  2.96783962,  2.6986944 ,  2.30691512],\n",
       "       [-0.33954606,  1.6056132 , -1.45124617,  0.65339697]])"
      ]
     },
     "execution_count": 34,
     "metadata": {},
     "output_type": "execute_result"
    }
   ],
   "source": [
    "np.random.normal(1, 2, size=(2, 4))"
   ]
  },
  {
   "cell_type": "markdown",
   "metadata": {},
   "source": [
    "## Changing order of a numpy array\n",
    "In case the order of the array is desired to be reversed, there are intuitive commands for that"
   ]
  },
  {
   "cell_type": "code",
   "execution_count": 35,
   "metadata": {},
   "outputs": [
    {
     "data": {
      "text/plain": [
       "matrix([[4, 3, 2, 1]])"
      ]
     },
     "execution_count": 35,
     "metadata": {},
     "output_type": "execute_result"
    }
   ],
   "source": [
    "array = np.matrix([[1, 2, 3 ,4]])\n",
    "np.fliplr(array)"
   ]
  },
  {
   "cell_type": "markdown",
   "metadata": {},
   "source": [
    "# Practical: Finding the biggest product"
   ]
  },
  {
   "cell_type": "markdown",
   "metadata": {},
   "source": [
    "In the 20×20 grid below, four numbers along a diagonal line have been marked in red.\n",
    "\n",
    "<img src=\"assets/number.png\" alt=\"\" width=\"500\"/>\n",
    "\n",
    "The product of these numbers is 26 × 63 × 78 × 14 = 1788696.\n",
    "\n",
    "What is the greatest product of four adjacent numbers in the same direction (up, down, left, right, or diagonally) in the 20×20 grid?"
   ]
  },
  {
   "cell_type": "markdown",
   "metadata": {},
   "source": [
    "### Potential approach\n",
    "1. Getting the numbers in a workable format - (from string to integers, in a list, etc)\n",
    "2. Writing a loop to extract a 4x4 matrix of the grid\n",
    "3. Writing a function to calculate all potential products"
   ]
  },
  {
   "cell_type": "code",
   "execution_count": 36,
   "metadata": {},
   "outputs": [],
   "source": [
    "num = (\"\"\"\n",
    "08 02 22 97 38 15 00 40 00 75 04 05 07 78 52 12 50 77 91 08\n",
    "49 49 99 40 17 81 18 57 60 87 17 40 98 43 69 48 04 56 62 00\n",
    "81 49 31 73 55 79 14 29 93 71 40 67 53 88 30 03 49 13 36 65\n",
    "52 70 95 23 04 60 11 42 69 24 68 56 01 32 56 71 37 02 36 91\n",
    "22 31 16 71 51 67 63 89 41 92 36 54 22 40 40 28 66 33 13 80\n",
    "24 47 32 60 99 03 45 02 44 75 33 53 78 36 84 20 35 17 12 50\n",
    "32 98 81 28 64 23 67 10 26 38 40 67 59 54 70 66 18 38 64 70\n",
    "67 26 20 68 02 62 12 20 95 63 94 39 63 08 40 91 66 49 94 21\n",
    "24 55 58 05 66 73 99 26 97 17 78 78 96 83 14 88 34 89 63 72\n",
    "21 36 23 09 75 00 76 44 20 45 35 14 00 61 33 97 34 31 33 95\n",
    "78 17 53 28 22 75 31 67 15 94 03 80 04 62 16 14 09 53 56 92\n",
    "16 39 05 42 96 35 31 47 55 58 88 24 00 17 54 24 36 29 85 57\n",
    "86 56 00 48 35 71 89 07 05 44 44 37 44 60 21 58 51 54 17 58\n",
    "19 80 81 68 05 94 47 69 28 73 92 13 86 52 17 77 04 89 55 40\n",
    "04 52 08 83 97 35 99 16 07 97 57 32 16 26 26 79 33 27 98 66\n",
    "88 36 68 87 57 62 20 72 03 46 33 67 46 55 12 32 63 93 53 69\n",
    "04 42 16 73 38 25 39 11 24 94 72 18 08 46 29 32 40 62 76 36\n",
    "20 69 36 41 72 30 23 88 34 62 99 69 82 67 59 85 74 04 36 16\n",
    "20 73 35 29 78 31 90 01 74 31 49 71 48 86 81 16 23 57 05 54\n",
    "01 70 54 71 83 51 54 69 16 92 33 48 61 43 52 01 89 19 67 48\"\"\".replace(\"\\n\", \" \"))"
   ]
  },
  {
   "cell_type": "code",
   "execution_count": null,
   "metadata": {},
   "outputs": [],
   "source": []
  },
  {
   "cell_type": "markdown",
   "metadata": {},
   "source": [
    "## Answer:\n",
    "Here you can check whether your results matches the solutions. You are encouraged to look at the code after you gave it a serious try"
   ]
  },
  {
   "cell_type": "code",
   "execution_count": 37,
   "metadata": {},
   "outputs": [
    {
     "name": "stdout",
     "output_type": "stream",
     "text": [
      "70600674\n"
     ]
    }
   ],
   "source": [
    "from Answers import question1\n",
    "question1(num)"
   ]
  }
 ],
 "metadata": {
  "kernelspec": {
   "display_name": "Python 3",
   "language": "python",
   "name": "python3"
  },
  "language_info": {
   "codemirror_mode": {
    "name": "ipython",
    "version": 3
   },
   "file_extension": ".py",
   "mimetype": "text/x-python",
   "name": "python",
   "nbconvert_exporter": "python",
   "pygments_lexer": "ipython3",
   "version": "3.7.4"
  },
  "varInspector": {
   "cols": {
    "lenName": 16,
    "lenType": 16,
    "lenVar": 40
   },
   "kernels_config": {
    "python": {
     "delete_cmd_postfix": "",
     "delete_cmd_prefix": "del ",
     "library": "var_list.py",
     "varRefreshCmd": "print(var_dic_list())"
    },
    "r": {
     "delete_cmd_postfix": ") ",
     "delete_cmd_prefix": "rm(",
     "library": "var_list.r",
     "varRefreshCmd": "cat(var_dic_list()) "
    }
   },
   "types_to_exclude": [
    "module",
    "function",
    "builtin_function_or_method",
    "instance",
    "_Feature"
   ],
   "window_display": false
  }
 },
 "nbformat": 4,
 "nbformat_minor": 4
}
